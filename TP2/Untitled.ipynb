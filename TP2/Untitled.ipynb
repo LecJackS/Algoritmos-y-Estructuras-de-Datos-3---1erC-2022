{
 "cells": [
  {
   "cell_type": "markdown",
   "id": "cf090db7",
   "metadata": {
    "pycharm": {
     "name": "#%% md\n"
    }
   },
   "source": [
    "# Algoritmo de Bertossi"
   ]
  },
  {
   "attachments": {},
   "cell_type": "markdown",
   "id": "6bffe676",
   "metadata": {
    "pycharm": {
     "name": "#%% md\n"
    }
   },
   "source": [
    "> By Theorems 3.1 and 3.2, the problem of finding a minimum total dominating set in an interval graph has been reduced to that of finding a shortest path in an appropriate network with some\n",
    "sequencing constraints on certain arcs. \n",
    ">\n",
    ">However, the latter problem can in turn be reduced to an ordinary shortest path problem.\n",
    ">\n",
    ">To see this, we define another directed network D' by splitting each node i, 1 < i < n, into two nodes, say i_in and i_out.\n",
    ">\n",
    ">These two nodes are joined by the arc (i_in, i_out) , whose length is zero.\n",
    ">\n",
    ">For each arc (i, j) in B, we introduce in D' the arc (i_out, j_in) with unit length.\n",
    ">\n",
    ">For each arc (i, j) in C, instead, we introduce in D' the arc (i_in, j_out) , also with unit length.\n",
    ">\n",
    ">Lastly, for each arc (0, i) in A we add to D' the arc (0, i_out) with zero length,\n",
    "while for each arc (i, n+1) in A we add to D' the arc (i_in, n + 1) with unit length.\n",
    ">\n",
    ">One can readily check that a shortest path in D' between nodes 0 and n + 1 corresponds to a minimum total dominating set in which interval I_i in I is included if and only if either i_in or i_out or both are crossed by the path.\n",
    ">\n",
    ">It is easy to see that D' can be constructed directly from I in O(n^2) time. Moreover, D' is acyclic, too. Then, a shortest path in D' can be found in O(n^2) time [10]. Thus, the overall time complexity to find a minimum total dominating set in an interval graph is O(n^2)."
   ]
  },
  {
   "cell_type": "code",
   "execution_count": null,
   "id": "e38a3416",
   "metadata": {
    "pycharm": {
     "name": "#%%\n"
    }
   },
   "outputs": [],
   "source": [
    "import pandas as pd\n"
   ]
  },
  {
   "cell_type": "code",
   "execution_count": null,
   "id": "e6e70e7c",
   "metadata": {
    "pycharm": {
     "name": "#%%\n"
    }
   },
   "outputs": [],
   "source": [
    "n = 5\n",
    "graph = [pd.Interval(10, 25)]"
   ]
  }
 ],
 "metadata": {
  "kernelspec": {
   "display_name": "Python 3",
   "language": "python",
   "name": "python3"
  },
  "language_info": {
   "codemirror_mode": {
    "name": "ipython",
    "version": 3
   },
   "file_extension": ".py",
   "mimetype": "text/x-python",
   "name": "python",
   "nbconvert_exporter": "python",
   "pygments_lexer": "ipython3",
   "version": "3.8.13"
  }
 },
 "nbformat": 4,
 "nbformat_minor": 5
}